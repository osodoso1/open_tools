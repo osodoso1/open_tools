{
 "cells": [
  {
   "cell_type": "code",
   "execution_count": 27,
   "metadata": {},
   "outputs": [],
   "source": [
    "#install dependencies pandas openpyxl asana itertools re and requests\n",
    "import pandas as pd\n",
    "from openpyxl import load_workbook\n",
    "import asana  \n",
    "from asana.rest import ApiException  \n",
    "import os\n",
    "import itertools\n",
    "import re\n",
    "import requests\n",
    "import tkinter as tk\n",
    "from tkinter import filedialog\n",
    "#Dict for all strains and primer sets\n",
    "substanceStrainPrimer = { #dictonary of keys \n",
    "                         }\n",
    "#Dict for primer requierd for cetrain feild trials in 2023\n",
    "substanceStrainPrimerSummer2023 = {#dictonary of keys  \n",
    "  \n",
    "}\n"
   ]
  },
  {
   "cell_type": "code",
   "execution_count": 28,
   "metadata": {},
   "outputs": [],
   "source": [
    "#location of file in your coputer and reading the sheet name \n",
    "##############################################################Change the pah in the gDNA_File = 'Path to your file'\n",
    "gDNA_File = ''\n",
    "df = pd.read_excel(gDNA_File, sheet_name = \"gdna_samples\")"
   ]
  },
  {
   "cell_type": "code",
   "execution_count": 29,
   "metadata": {},
   "outputs": [],
   "source": [
    "#Getting number of rows in the Data Frame\n",
    "num_rows = df.shape [0]\n",
    "#################################################################EDIT ME if you need to change the type of measuremnts\n",
    "measurement_type = ['qPCR, NovaSeq'] * num_rows\n",
    "df['Measurements'] = measurement_type\n",
    "#print(num_rows) to see tyhe amount of rows in the file"
   ]
  },
  {
   "cell_type": "code",
   "execution_count": 30,
   "metadata": {},
   "outputs": [
    {
     "name": "stdout",
     "output_type": "stream",
     "text": [
      "F2702_R2703_P2790, F6824_R6826_P6825, F11809_R11810_P13823, F10809_R10810_P10811\n"
     ]
    }
   ],
   "source": [
    "#Working with primer columns\n",
    "allSubstanceStrains = df['substance_strains'].drop_duplicates().tolist()\n",
    "# Function to split the elements in the list\n",
    "def split_elements(allSubstanceStrains):\n",
    "    result_allSubstanceStrains = []\n",
    "    for item in allSubstanceStrains:\n",
    "        if isinstance(item, str) and ',' in item:\n",
    "            sub_items = item.split(', ')\n",
    "            result_allSubstanceStrains.extend(sub_items)\n",
    "        else:\n",
    "            result_allSubstanceStrains.append(item)\n",
    "    return result_allSubstanceStrains\n",
    "\n",
    "#Pulling Primers\n",
    "allSubstanceStrains = split_elements(allSubstanceStrains)\n",
    "substanceStrainsPrimerMatch = {item: substanceStrainPrimer.get(item, \"Not Found\") for item in allSubstanceStrains}\n",
    "substanceStrainsPrimerMatchValues = list(substanceStrainsPrimerMatch.values())\n",
    "substanceStrainsPrimerMatchValuesString = ', '.join(str(value) for value in substanceStrainsPrimerMatchValues)\n",
    "#Roemoving extra naming conventions like []''\n",
    "substanceStrainsPrimerMatchClean = {value for value in substanceStrainsPrimerMatchValuesString.split(', ') if value not in ('Not Found', '', '[]', '\"\"')}\n",
    "#Removing extra characters\n",
    "pattern = r'[,a-zA-Z0-9_]'\n",
    "substanceStrainsPrimerMatchFiltered = []\n",
    "for item in substanceStrainsPrimerMatchClean:\n",
    "    # Use re.findall() to find all matches in the list\n",
    "    filtered_item = ''.join(re.findall(pattern, item))\n",
    "    substanceStrainsPrimerMatchFiltered.append(filtered_item)\n",
    "substanceStrainsPrimerMatchFiltered = substanceStrainsPrimerMatchFiltered[:len(df)]\n",
    "#turning list into string\n",
    "substanceStrainsPrimerMatchString = ', '.join(substanceStrainsPrimerMatchFiltered)\n",
    "print(substanceStrainsPrimerMatchString)\n",
    "primer_set_strains = [substanceStrainsPrimerMatchString] * num_rows\n",
    "df['primer_set_strains'] = primer_set_strains"
   ]
  },
  {
   "cell_type": "code",
   "execution_count": 31,
   "metadata": {},
   "outputs": [
    {
     "name": "stdout",
     "output_type": "stream",
     "text": [
      "All primers have at least one match in the substace_strains.\n"
     ]
    }
   ],
   "source": [
    "#Warning code to find if a primer or substance has no match\n",
    "#Finding primers and substances \n",
    "def find_primer_matches(allSubstanceStrains, substanceStrainPrimer):\n",
    "    missing_primers = []\n",
    "    for allSubstanceStrains in allSubstanceStrains:\n",
    "        found_match = False\n",
    "        for substanceStrainPrimer in substanceStrainPrimer:\n",
    "            if allSubstanceStrains in substanceStrainPrimer:\n",
    "                found_match = True\n",
    "                break\n",
    "        if not found_match:\n",
    "            missing_primers.append(allSubstanceStrains)\n",
    "    return missing_primers\n",
    "#If statement to tell user warning messages\n",
    "def main():\n",
    "    allSubstanceStrains = []\n",
    "    substanceStrainPrimer = []\n",
    "    missing_primers = find_primer_matches(allSubstanceStrains, substanceStrainPrimer)\n",
    "    if missing_primers:\n",
    "        print(\"Warning: The following primers have no matches in the substace_strains:\")\n",
    "        for allSubstanceStrains in missing_primers:\n",
    "            print(allSubstanceStrains)\n",
    "    else:\n",
    "        print(\"All primers have at least one match in the substace_strains.\")\n",
    "\n",
    "if __name__ == \"__main__\":\n",
    "    main()\n"
   ]
  },
  {
   "cell_type": "code",
   "execution_count": 32,
   "metadata": {},
   "outputs": [],
   "source": [
    "#reading the gDNA File to append gDNA Quantifdications tab\n",
    "df2 = pd.read_excel(gDNA_File, sheet_name = \"gdna_quantifications\")\n",
    "#Replacing file name with _qPCR_Request.xlsx\n",
    "gDNA_File_w_qPCRPrimers = gDNA_File.replace('.xlsx', '_qPCR_request.xlsx')\n",
    "# Create an Excel writer object with the openpyxl engine\n",
    "with pd.ExcelWriter(gDNA_File_w_qPCRPrimers, engine='openpyxl') as writer:\n",
    "    # Write each DataFrame to a separate sheet in the Excel file\n",
    "    df.to_excel(writer, index=False, sheet_name='gdna_samples')\n",
    "    df2.to_excel(writer, index=False, sheet_name='gdna_quantifications')\n"
   ]
  },
  {
   "cell_type": "code",
   "execution_count": null,
   "metadata": {},
   "outputs": [],
   "source": [
    "#Taking File name to use for ASANA\n",
    "file_name = os.path.basename(gDNA_File)\n",
    "absolute_path = os.path.abspath(os.path.join(gDNA_File))\n",
    "#Removing copy and \"_\" from name\n",
    "def remove_copy_and_underscore(file_name):\n",
    "    base_name, extension = os.path.splitext(file_name)\n",
    "    if base_name.endswith(\"_copy\"): \n",
    "        base_name = base_name[:-len(\"_copy\")]\n",
    "        base_name = base_name.replace(\" \", \"\")\n",
    "    new_name = base_name.replace(\"_\", \" \") + extension\n",
    "    return new_name\n",
    "#Calling function above\n",
    "qPCRRequestname = remove_copy_and_underscore(file_name)\n",
    "print(qPCRRequestname)\n",
    "print(\"File Path:\", absolute_path)"
   ]
  },
  {
   "cell_type": "code",
   "execution_count": 69,
   "metadata": {},
   "outputs": [],
   "source": [
    "#The ASANA personal Access Token can be found after making an ASANA API app\n",
    "#https://app.asana.com/0/my-apps\n",
    "asana_personal_access_token = ''\n",
    "#Project GID \n",
    "project_gid = ''\n",
    "project_name = 'qPCR pipeline'\n",
    "\n",
    "base_url = 'https://app.asana.com/api/1.0'\n",
    "headers = {\n",
    "    'Authorization': f'Bearer {asana_personal_access_token}'\n",
    "}\n",
    "configuration = asana.Configuration()\n",
    "configuration.access_token = ''\n",
    "\n",
    "def create_asana_task_with_details(project_gid, task_name, assignee_gid, due_date, followers_gids=[]):\n",
    "    client = asana.Configuration.access_token\n",
    "# Suppress deprecation warnings\n",
    "    client.headers['Asana-Disable'] = 'new_user_task_lists,new_goal_memberships'\n",
    "    data = {\n",
    "        'projects': [project_gid],\n",
    "        'name': task_name,\n",
    "        'assignee': assignee_gid,\n",
    "        'due_on': due_date,\n",
    "        'followers': followers_gids,\n",
    "    }\n",
    "    result = client.tasks.create(data)\n"
   ]
  },
  {
   "cell_type": "code",
   "execution_count": 70,
   "metadata": {},
   "outputs": [],
   "source": [
    "#Function to attach file to path \n",
    "def attach_file_to_task(task_gid, absolute_path):\n",
    "    client = asana.Configuration.get_basic_auth_token(asana_personal_access_token)\n",
    "    # Suppress deprecation warnings\n",
    "    client.headers['Asana-Disable'] = 'new_user_task_lists,new_goal_memberships'\n",
    "    with open(absolute_path, 'rb') as file:\n",
    "        file_content = file.read()\n",
    "        result = client.attachments.create_on_task(task_gid, file_content, file_name= absolute_path)\n",
    "    \n",
    "    if result['errors']:\n",
    "        print(f\"Error attaching file: {result['errors']}\")\n",
    "        return False\n",
    "\n",
    "    print(\"File attached to the task.\")\n",
    "    return True\n",
    "\n",
    "# Function to move the task to a section\n",
    "def move_task_to_section(task_gid, section_gid):\n",
    "    client = asana.Con(asana_personal_access_token)\n",
    "    result = client.tasks.add_project(task_gid, project={'gid': section_gid})\n",
    "    if result['errors']:\n",
    "        print(f\"Error moving task to section: {result['errors']}\")\n",
    "        return False\n",
    "    print(\"Task moved to the specified section.\")\n",
    "    return True\n"
   ]
  },
  {
   "cell_type": "code",
   "execution_count": 71,
   "metadata": {},
   "outputs": [],
   "source": [
    "# Example usage:\n",
    "personal_access_token = asana_personal_access_token\n",
    "task_name = qPCRRequestname\n",
    "assignee_gid = ''\n",
    "due_date = '2023-09-15'  # Replace with the due date in ISO 8601 format (e.g., 'YYYY-MM-DD')\n",
    "followers_gids = []\n",
    "file_path = absolute_path  # Replace with the path to the file you want to attach (or set to None if no attachment needed)\n",
    "project_gid = ''  # Replace with the GID of the project where you want to create the task\n",
    "section_gid = 'Requested (top=highest priority)' "
   ]
  },
  {
   "cell_type": "code",
   "execution_count": null,
   "metadata": {},
   "outputs": [
    {
     "name": "stdout",
     "output_type": "stream",
     "text": [
      "Error creating task: 400 - Unknown Error\n",
      "Response content: {'errors': [{'message': 'You should specify one of workspace, parent, projects', 'help': 'For more information on API status codes and how to handle them, read the docs on errors: https://developers.asana.com/docs/errors'}]}\n"
     ]
    }
   ],
   "source": [
    "#################TROUBLESHOOTINGto read error message!##########################################################\n",
    "# Create the task\n",
    "url = f'{base_url}/tasks'\n",
    "data = {\n",
    "        'projects': [project_gid],  # Directly use the provided project GID\n",
    "        'name': task_name,\n",
    "        'assignee': assignee_gid,\n",
    "        'due_on': due_date,\n",
    "        'followers': followers_gids,\n",
    "    }\n",
    "response = requests.post(url, headers=headers, json=data)\n",
    "if response.status_code != 201:\n",
    "    error_message = response.json().get('message', 'Unknown Error')\n",
    "    print(f\"Error creating task: {response.status_code} - {error_message}\")\n",
    "    print(\"Response content:\", response.json())"
   ]
  }
 ],
 "metadata": {
  "kernelspec": {
   "display_name": "Python 3 (ipykernel)",
   "language": "python",
   "name": "python3"
  },
  "language_info": {
   "codemirror_mode": {
    "name": "ipython",
    "version": 3
   },
   "file_extension": ".py",
   "mimetype": "text/x-python",
   "name": "python",
   "nbconvert_exporter": "python",
   "pygments_lexer": "ipython3",
   "version": "3.9.13"
  }
 },
 "nbformat": 4,
 "nbformat_minor": 4
}
